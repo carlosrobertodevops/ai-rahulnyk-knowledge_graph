{
 "cells": [
  {
   "cell_type": "code",
   "execution_count": 37,
   "metadata": {},
   "outputs": [],
   "source": [
    "from pyvis.network import Network\n",
    "import networkx as nx"
   ]
  },
  {
   "cell_type": "code",
   "execution_count": 39,
   "metadata": {},
   "outputs": [
    {
     "data": {
      "text/html": [
       "\n",
       "        <iframe\n",
       "            width=\"100%\"\n",
       "            height=\"600px\"\n",
       "            src=\"index.html\"\n",
       "            frameborder=\"0\"\n",
       "            allowfullscreen\n",
       "            \n",
       "        ></iframe>\n",
       "        "
      ],
      "text/plain": [
       "<IPython.lib.display.IFrame at 0x1085ca310>"
      ]
     },
     "execution_count": 39,
     "metadata": {},
     "output_type": "execute_result"
    }
   ],
   "source": [
    "g = Network(notebook=True, cdn_resources='in_line')\n",
    "\n",
    "g.from_nx(nx.florentine_families_graph())\n",
    "# g.show_buttons(filter_=[\"nodes\"])\n",
    "g.set_options(\n",
    "    \"\"\"\n",
    "const options = {\n",
    "  \"nodes\": {\n",
    "    \"borderWidth\": 4,\n",
    "    \"borderWidthSelected\": 6,\n",
    "    \"color\": {\n",
    "      \"border\": \"rgb(129,11,233,1)\",\n",
    "      \"background\": \"rgb(252,39,99,1)\"\n",
    "    },\n",
    "    \"opacity\": 1,\n",
    "    \"font\": {\n",
    "      \"size\": 7,\n",
    "      \"face\": \"tahoma\"\n",
    "    }\n",
    "  }\n",
    "}\n",
    "\"\"\"\n",
    ")\n",
    "g.show(\"index.html\")"
   ]
  },
  {
   "cell_type": "code",
   "execution_count": null,
   "metadata": {},
   "outputs": [],
   "source": []
  },
  {
   "cell_type": "code",
   "execution_count": null,
   "metadata": {},
   "outputs": [],
   "source": []
  },
  {
   "cell_type": "code",
   "execution_count": null,
   "metadata": {},
   "outputs": [],
   "source": [
    "notebook=True, cdn_resources='in_line')\n",
    "\n",
    "g.from_nx(nx.florentine_families_graph())\n",
    "g.show_buttons(filter_=[\"nodes\"])\n",
    "# g.set_options(\n",
    "#     \"\"\"\n",
    "# const options = {\n",
    "#   \"nodes\": {\n",
    "#     \"borderWidth\": 4,\n",
    "#     \"borderWidthSelected\": 6,\n",
    "#     \"color\": {\n",
    "#       \"border\": \"rgb(129,11,233,1)\",\n",
    "#       \"background\": \"rgb(252,39,99,1)\"\n",
    "#     },\n",
    "#     \"opacity\": 1,\n",
    "#     \"font\": {\n",
    "#       \"size\": 7,\n",
    "#       \"face\": \"tahoma\"\n",
    "#     }\n",
    "#   }\n",
    "# }\n",
    "# \"\"\"\n",
    "# )\n",
    "g.show(\"index.html\")"
   ]
  }
 ],
 "metadata": {
  "kernelspec": {
   "display_name": "knowledge-graph",
   "language": "python",
   "name": "python3"
  },
  "language_info": {
   "codemirror_mode": {
    "name": "ipython",
    "version": 3
   },
   "file_extension": ".py",
   "mimetype": "text/x-python",
   "name": "python",
   "nbconvert_exporter": "python",
   "pygments_lexer": "ipython3",
   "version": "3.11.9"
  }
 },
 "nbformat": 4,
 "nbformat_minor": 2
}
