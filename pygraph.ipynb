{
 "cells": [
  {
   "cell_type": "code",
   "execution_count": 8,
   "metadata": {},
   "outputs": [],
   "source": [
    "from pyvis.network import Network\n",
    "import networkx as nx"
   ]
  },
  {
   "cell_type": "code",
   "execution_count": 24,
   "metadata": {},
   "outputs": [],
   "source": [
    "g = Network()\n",
    "\n",
    "g.from_nx(nx.florentine_families_graph())\n",
    "# g.show_buttons(filter_=[\"nodes\"])\n",
    "g.set_options(\"\"\"\n",
    "const options = {\n",
    "  \"nodes\": {\n",
    "    \"borderWidth\": 4,\n",
    "    \"color\": {\n",
    "      \"border\": \"rgba(252,39,99,1)\",\n",
    "      \"background\": \"rgba(252,39,99,1)\",\n",
    "      \"highlight\": {\n",
    "        \"border\": \"rgba(129,11,233,1)\"\n",
    "      }\n",
    "    }\n",
    "  }\n",
    "}\n",
    "\"\"\"\n",
    ")\n",
    "g.show(\"ex1.html\")"
   ]
  }
 ],
 "metadata": {
  "kernelspec": {
   "display_name": "knowledge-graph",
   "language": "python",
   "name": "python3"
  },
  "language_info": {
   "codemirror_mode": {
    "name": "ipython",
    "version": 3
   },
   "file_extension": ".py",
   "mimetype": "text/x-python",
   "name": "python",
   "nbconvert_exporter": "python",
   "pygments_lexer": "ipython3",
   "version": "3.11.9"
  }
 },
 "nbformat": 4,
 "nbformat_minor": 2
}
